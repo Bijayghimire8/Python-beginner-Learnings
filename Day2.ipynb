{
 "cells": [
  {
   "cell_type": "markdown",
   "id": "e874a30e-2a18-4903-8136-bfbf8a2941c8",
   "metadata": {},
   "source": [
    "# Day-2 operators\n",
    "Python operators are special symbols or keywords used to perform operations on variables and values. Here’s an overview of different types of Python operators:\n",
    "\n",
    "1. Arithmetic Operators\n",
    "    +: Addition\n",
    "    -: Subtraction\n",
    "    *: Multiplication\n",
    "    /: Division\n",
    "    %: Modulus (remainder)\n",
    "    **: Exponentiation\n",
    "    //: Floor division\n",
    "   \n",
    "   \n",
    "3. Comparison (Relational) Operators\n",
    "==: Equal to\n",
    "!=: Not equal to\n",
    ">: Greater than\n",
    "<: Less than\n",
    ">=: Greater than or equal to\n",
    "<=: Less than or equal to\n",
    "3. Assignment Operators\n",
    "=: Assigns a value to a variable\n",
    "+=: Adds and assigns (e.g., a += b is equivalent to a = a + b)\n",
    "-=: Subtracts and assigns\n",
    "*=: Multiplies and assigns\n",
    "/=: Divides and assigns\n",
    "%=: Modulus and assigns\n",
    "**=: Exponentiation and assigns\n",
    "//=: Floor division and assigns\n",
    "4. Logical Operators\n",
    "and: Logical AND\n",
    "or: Logical OR\n",
    "not: Logical NOT\n",
    "5. Bitwise Operators\n",
    "&: Bitwise AND\n",
    "|: Bitwise OR\n",
    "^: Bitwise XOR\n",
    "~: Bitwise NOT\n",
    "<<: Bitwise left shift\n",
    ">>: Bitwise right shift\n",
    "6. Membership Operators\n",
    "in: Checks if a value is present in a sequence (list, tuple, string, etc.)\n",
    "not in: Checks if a value is not present in a sequence\n",
    "7. Identity Operators\n",
    "is: Checks if two variables refer to the same object in memory\n",
    "is not: Checks if two variables do not refer to the same object in memory\n",
    "8. Augmented Assignment Operators\n",
    "These are variations of arithmetic operators combined with assignment, like +=, -=, *=, etc.\n",
    "Each operator type allows you to perform different kinds of operations, from basic arithmetic to more complex logical and bitwise operations."
   ]
  },
  {
   "cell_type": "code",
   "execution_count": 1,
   "id": "4e0fa57f-6156-4d99-963d-0a5621ca18b8",
   "metadata": {},
   "outputs": [
    {
     "data": {
      "text/plain": [
       "5"
      ]
     },
     "execution_count": 1,
     "metadata": {},
     "output_type": "execute_result"
    }
   ],
   "source": [
    "2+3 #arthmatic"
   ]
  },
  {
   "cell_type": "code",
   "execution_count": 9,
   "id": "017b69cc-2fd6-4202-98c6-9a08b08dff67",
   "metadata": {},
   "outputs": [
    {
     "data": {
      "text/plain": [
       "1"
      ]
     },
     "execution_count": 9,
     "metadata": {},
     "output_type": "execute_result"
    }
   ],
   "source": [
    "4%3 #Modulus "
   ]
  },
  {
   "cell_type": "code",
   "execution_count": 11,
   "id": "cb00a9e6-abef-41e3-9492-b5cbaa4d408b",
   "metadata": {},
   "outputs": [
    {
     "data": {
      "text/plain": [
       "8"
      ]
     },
     "execution_count": 11,
     "metadata": {},
     "output_type": "execute_result"
    }
   ],
   "source": [
    "2**3 # exponentiation"
   ]
  },
  {
   "cell_type": "code",
   "execution_count": 15,
   "id": "2e347ed6-1af5-4a02-858f-7e3de8c6dcc3",
   "metadata": {},
   "outputs": [
    {
     "data": {
      "text/plain": [
       "1"
      ]
     },
     "execution_count": 15,
     "metadata": {},
     "output_type": "execute_result"
    }
   ],
   "source": [
    "5//3 #floor division, which results only the number"
   ]
  },
  {
   "cell_type": "code",
   "execution_count": 49,
   "id": "dc8e82b3-d1f9-48f6-92f5-e1284ded7430",
   "metadata": {},
   "outputs": [],
   "source": [
    "#Question:\n",
    "\n",
    "#Given the following mathematical expressions, write the corresponding Python expressions to calculate the values step by step:\n",
    "\n",
    "#Calculate the value of x using the expression:\n",
    "#x=7×(3+8−4)÷6\n",
    "#Convert the value of x to an integer and calculate y as the modulus of this integer by 2.\n",
    "#Calculate z as y raised to the power of 3.\n",
    "#Calculate k as z floor divided by 3.\n",
    "#Now, replace \"None\" with your Python code in the following exercise:"
   ]
  },
  {
   "cell_type": "code",
   "execution_count": 17,
   "id": "26acfa2d-30f3-4b69-b1c1-8771b95e3fcc",
   "metadata": {},
   "outputs": [
    {
     "name": "stderr",
     "output_type": "stream",
     "text": [
      "<>:1: SyntaxWarning: 'int' object is not callable; perhaps you missed a comma?\n",
      "<>:1: SyntaxWarning: 'int' object is not callable; perhaps you missed a comma?\n",
      "/var/folders/3f/zv6z9y5x4wg4jglm8c73g7nr0000gn/T/ipykernel_2703/342071660.py:1: SyntaxWarning: 'int' object is not callable; perhaps you missed a comma?\n",
      "  x=7(3+8-4)/6\n"
     ]
    },
    {
     "ename": "TypeError",
     "evalue": "'int' object is not callable",
     "output_type": "error",
     "traceback": [
      "\u001b[0;31m---------------------------------------------------------------------------\u001b[0m",
      "\u001b[0;31mTypeError\u001b[0m                                 Traceback (most recent call last)",
      "Cell \u001b[0;32mIn[17], line 1\u001b[0m\n\u001b[0;32m----> 1\u001b[0m x\u001b[38;5;241m=\u001b[39m\u001b[38;5;241m7\u001b[39m(\u001b[38;5;241m3\u001b[39m\u001b[38;5;241m+\u001b[39m\u001b[38;5;241m8\u001b[39m\u001b[38;5;241m-\u001b[39m\u001b[38;5;241m4\u001b[39m)\u001b[38;5;241m/\u001b[39m\u001b[38;5;241m6\u001b[39m\n",
      "\u001b[0;31mTypeError\u001b[0m: 'int' object is not callable"
     ]
    }
   ],
   "source": [
    "x=7(3+8-4)/6 #need *"
   ]
  },
  {
   "cell_type": "code",
   "execution_count": 17,
   "id": "e0976bdf-0a0a-4171-b647-d246fb13cd92",
   "metadata": {},
   "outputs": [
    {
     "name": "stdout",
     "output_type": "stream",
     "text": [
      "8.166666666666666\n"
     ]
    }
   ],
   "source": [
    "x=7*(3+8-4)/6 #use of *\n",
    "print(x)"
   ]
  },
  {
   "cell_type": "code",
   "execution_count": 53,
   "id": "b78525a8-8b02-40a8-a1cc-7f5a23f50ea1",
   "metadata": {},
   "outputs": [
    {
     "name": "stdout",
     "output_type": "stream",
     "text": [
      "2\n"
     ]
    }
   ],
   "source": [
    "y=int(x)%3 #takes the value of x from above program\n",
    "print(y)"
   ]
  },
  {
   "cell_type": "code",
   "execution_count": 73,
   "id": "25820d5d-c07d-4f3c-9211-e8ec926c6ebb",
   "metadata": {},
   "outputs": [
    {
     "name": "stdout",
     "output_type": "stream",
     "text": [
      "8\n"
     ]
    }
   ],
   "source": [
    "z=y**3 \n",
    "print(z)"
   ]
  },
  {
   "cell_type": "code",
   "execution_count": 57,
   "id": "27cdbbab-b3e7-4e4f-ab10-bd121bfde2a7",
   "metadata": {},
   "outputs": [
    {
     "data": {
      "text/plain": [
       "2"
      ]
     },
     "execution_count": 57,
     "metadata": {},
     "output_type": "execute_result"
    }
   ],
   "source": [
    "z//3  #floor division\n",
    "print(z)"
   ]
  },
  {
   "cell_type": "code",
   "execution_count": 80,
   "id": "ffb3cb14-617a-4ba5-ac62-cc2a4ca00291",
   "metadata": {},
   "outputs": [
    {
     "name": "stdout",
     "output_type": "stream",
     "text": [
      "None\n",
      "None\n"
     ]
    }
   ],
   "source": [
    "x=None\n",
    "y=None\n",
    "z=None\n",
    "x=7*(3+8-4)/6 #use of *\n",
    "x=None\n",
    "y=None\n",
    "z=None\n",
    "print(x)\n",
    "print(y)"
   ]
  },
  {
   "cell_type": "markdown",
   "id": "f21fe694-4551-4505-b199-ac6b776b6068",
   "metadata": {},
   "source": [
    "Assignment operators"
   ]
  },
  {
   "cell_type": "code",
   "execution_count": 44,
   "id": "cc545048-a349-41f3-bc00-4778ef3b9869",
   "metadata": {},
   "outputs": [
    {
     "name": "stdout",
     "output_type": "stream",
     "text": [
      "8\n"
     ]
    }
   ],
   "source": [
    "x=5\n",
    "x+=3 #which means same as x=x+3\n",
    "print(x)"
   ]
  },
  {
   "cell_type": "code",
   "execution_count": 46,
   "id": "5238f858-4b6a-4103-9bbd-278957046e14",
   "metadata": {},
   "outputs": [
    {
     "name": "stdout",
     "output_type": "stream",
     "text": [
      "2\n"
     ]
    }
   ],
   "source": [
    "x=5\n",
    "x-=3 #which means same as x=x-3\n",
    "print(x)"
   ]
  },
  {
   "cell_type": "code",
   "execution_count": 48,
   "id": "1f0e8bd8-10d7-41e4-bb55-e897c444e468",
   "metadata": {},
   "outputs": [
    {
     "name": "stdout",
     "output_type": "stream",
     "text": [
      "15\n"
     ]
    }
   ],
   "source": [
    "x=5\n",
    "x*=3 #which means same as x=x*3\n",
    "print(x)"
   ]
  },
  {
   "cell_type": "code",
   "execution_count": 50,
   "id": "78ba26f0-975c-4450-a34a-aa2824aea93b",
   "metadata": {},
   "outputs": [
    {
     "name": "stdout",
     "output_type": "stream",
     "text": [
      "1\n"
     ]
    }
   ],
   "source": [
    "x=5\n",
    "x//=3 #which means same as x=x//3\n",
    "print(x)"
   ]
  },
  {
   "cell_type": "code",
   "execution_count": 52,
   "id": "2a4a772b-4d48-4037-88a6-08ab27d74dde",
   "metadata": {},
   "outputs": [
    {
     "name": "stdout",
     "output_type": "stream",
     "text": [
      "125\n"
     ]
    }
   ],
   "source": [
    "x=5\n",
    "x**=3\n",
    "print(x)"
   ]
  },
  {
   "cell_type": "code",
   "execution_count": 54,
   "id": "a9211fe6-81b5-4d6d-8f29-4568962547f2",
   "metadata": {},
   "outputs": [
    {
     "name": "stdout",
     "output_type": "stream",
     "text": [
      "2\n"
     ]
    }
   ],
   "source": [
    "x=5\n",
    "x%=3\n",
    "print(x)"
   ]
  },
  {
   "cell_type": "markdown",
   "id": "334a69fe-217c-4ed5-abb9-b1968fd74c25",
   "metadata": {},
   "source": [
    "# Comparison Operators"
   ]
  },
  {
   "cell_type": "code",
   "execution_count": 57,
   "id": "b3a6c478-1f3c-4ec0-81da-94e9b6d86e48",
   "metadata": {},
   "outputs": [
    {
     "data": {
      "text/plain": [
       "False"
      ]
     },
     "execution_count": 57,
     "metadata": {},
     "output_type": "execute_result"
    }
   ],
   "source": [
    "x==5 #value of x was 2 in above "
   ]
  },
  {
   "cell_type": "code",
   "execution_count": 29,
   "id": "2a2addb4-0250-4474-835c-f00bdf04001d",
   "metadata": {},
   "outputs": [
    {
     "data": {
      "text/plain": [
       "True"
      ]
     },
     "execution_count": 29,
     "metadata": {},
     "output_type": "execute_result"
    }
   ],
   "source": [
    "2!=3 #!=: Not equal to"
   ]
  },
  {
   "cell_type": "code",
   "execution_count": 27,
   "id": "0ed86116-3bd6-4cfe-881b-c52f1e30ad02",
   "metadata": {},
   "outputs": [
    {
     "data": {
      "text/plain": [
       "True"
      ]
     },
     "execution_count": 27,
     "metadata": {},
     "output_type": "execute_result"
    }
   ],
   "source": [
    "2<=3"
   ]
  },
  {
   "cell_type": "markdown",
   "id": "4985db36-613a-45da-a595-401d3ddfd913",
   "metadata": {},
   "source": [
    "# Logical Operators(AND,OR,NOT)"
   ]
  },
  {
   "cell_type": "code",
   "execution_count": 63,
   "id": "2caea013-dbbe-4c8c-b736-f265181ca888",
   "metadata": {},
   "outputs": [
    {
     "data": {
      "text/plain": [
       "False"
      ]
     },
     "execution_count": 63,
     "metadata": {},
     "output_type": "execute_result"
    }
   ],
   "source": [
    "#AND , IF BOTH OPERAND ARE TRUE\n",
    "#OR, IF ANY OPERAND IS TRUE\n",
    "#NOT TRUE IF OPERAND IS FALSE\n",
    "\n",
    "a=2\n",
    "b=3\n",
    "\n",
    "a>2 and b>3"
   ]
  },
  {
   "cell_type": "code",
   "execution_count": 35,
   "id": "96b4f88b-2dda-4a81-bafc-881f75e39d87",
   "metadata": {},
   "outputs": [
    {
     "data": {
      "text/plain": [
       "True"
      ]
     },
     "execution_count": 35,
     "metadata": {},
     "output_type": "execute_result"
    }
   ],
   "source": [
    "a=2\n",
    "b=3\n",
    "\n",
    "a<3 or b>6"
   ]
  },
  {
   "cell_type": "code",
   "execution_count": 39,
   "id": "b62099a2-777e-403e-b179-da2802cb8a19",
   "metadata": {},
   "outputs": [
    {
     "data": {
      "text/plain": [
       "True"
      ]
     },
     "execution_count": 39,
     "metadata": {},
     "output_type": "execute_result"
    }
   ],
   "source": [
    "a=2\n",
    "b=3\n",
    "\n",
    "not a>2"
   ]
  },
  {
   "cell_type": "markdown",
   "id": "c353df61-f20d-4a72-b247-e90590b64fae",
   "metadata": {},
   "source": [
    "# Short circuit operators"
   ]
  },
  {
   "cell_type": "code",
   "execution_count": null,
   "id": "66624ecb-eadf-40a1-803c-de4546242911",
   "metadata": {},
   "outputs": [],
   "source": []
  },
  {
   "cell_type": "code",
   "execution_count": 83,
   "id": "2d8c3583-c940-4f11-9f68-b04ae5851eff",
   "metadata": {},
   "outputs": [
    {
     "data": {
      "text/plain": [
       "False"
      ]
     },
     "execution_count": 83,
     "metadata": {},
     "output_type": "execute_result"
    }
   ],
   "source": [
    "False and whatever"
   ]
  },
  {
   "cell_type": "code",
   "execution_count": 90,
   "id": "9648f051-fa66-4aa6-a734-6302eedd0be6",
   "metadata": {},
   "outputs": [
    {
     "data": {
      "text/plain": [
       "''"
      ]
     },
     "execution_count": 90,
     "metadata": {},
     "output_type": "execute_result"
    }
   ],
   "source": [
    "\"\" and whatever #empty string is a boolean  false"
   ]
  },
  {
   "cell_type": "code",
   "execution_count": 87,
   "id": "e0cd9fdf-293c-4a3a-b85d-88975b2b5307",
   "metadata": {},
   "outputs": [
    {
     "data": {
      "text/plain": [
       "[]"
      ]
     },
     "execution_count": 87,
     "metadata": {},
     "output_type": "execute_result"
    }
   ],
   "source": [
    "[] and whatever #empty list,tuple,set,dict etc are all boolean false"
   ]
  },
  {
   "cell_type": "code",
   "execution_count": 82,
   "id": "1131d88f-771a-4a93-80ae-8cdc60e5d1dd",
   "metadata": {},
   "outputs": [
    {
     "data": {
      "text/plain": [
       "True"
      ]
     },
     "execution_count": 82,
     "metadata": {},
     "output_type": "execute_result"
    }
   ],
   "source": [
    "True or Whatever"
   ]
  },
  {
   "cell_type": "code",
   "execution_count": 84,
   "id": "e9e8d79b-0e83-4f8c-a972-3f1712442a0e",
   "metadata": {},
   "outputs": [
    {
     "data": {
      "text/plain": [
       "'Hello'"
      ]
     },
     "execution_count": 84,
     "metadata": {},
     "output_type": "execute_result"
    }
   ],
   "source": [
    "\"Hello\" or whatever"
   ]
  },
  {
   "cell_type": "markdown",
   "id": "5a9d2b93-a90d-4b6d-8564-38805793217a",
   "metadata": {},
   "source": [
    "# Logical operators Precedence"
   ]
  },
  {
   "cell_type": "code",
   "execution_count": 41,
   "id": "72b72b42-65e3-4ad2-90d8-217986ec50e3",
   "metadata": {},
   "outputs": [],
   "source": [
    "#Logical operators Precedence rules are as follows\n",
    "#1.not\n",
    "#2.and\n",
    "#3.or\n"
   ]
  },
  {
   "cell_type": "code",
   "execution_count": 92,
   "id": "76eb80fa-e66a-4e80-ae9c-6ac6377b7cd9",
   "metadata": {},
   "outputs": [
    {
     "data": {
      "text/plain": [
       "False"
      ]
     },
     "execution_count": 92,
     "metadata": {},
     "output_type": "execute_result"
    }
   ],
   "source": [
    "False or True and not True"
   ]
  },
  {
   "cell_type": "code",
   "execution_count": 94,
   "id": "d5a18214-bae0-47b1-a019-ec455b04f4dd",
   "metadata": {},
   "outputs": [
    {
     "data": {
      "text/plain": [
       "False"
      ]
     },
     "execution_count": 94,
     "metadata": {},
     "output_type": "execute_result"
    }
   ],
   "source": [
    "False and True and not True"
   ]
  },
  {
   "cell_type": "code",
   "execution_count": 98,
   "id": "7591f870-fe9c-4a11-8f6a-8ff35ac00448",
   "metadata": {},
   "outputs": [
    {
     "data": {
      "text/plain": [
       "True"
      ]
     },
     "execution_count": 98,
     "metadata": {},
     "output_type": "execute_result"
    }
   ],
   "source": [
    "True and True or not True"
   ]
  },
  {
   "cell_type": "markdown",
   "id": "bdd4724e-a1b7-4f39-94b0-db5767669350",
   "metadata": {},
   "source": [
    "# identity Operators"
   ]
  },
  {
   "cell_type": "code",
   "execution_count": 97,
   "id": "f57c44b7-ba50-4e0d-80fb-5ae911aeb46b",
   "metadata": {},
   "outputs": [],
   "source": [
    "#are used to determine whether a value is of certain class or type"
   ]
  },
  {
   "cell_type": "code",
   "execution_count": 99,
   "id": "73c6ebca-e2e9-4717-b963-b9028fcee146",
   "metadata": {},
   "outputs": [
    {
     "data": {
      "text/plain": [
       "True"
      ]
     },
     "execution_count": 99,
     "metadata": {},
     "output_type": "execute_result"
    }
   ],
   "source": [
    "x=5\n",
    "type(x) is int"
   ]
  },
  {
   "cell_type": "code",
   "execution_count": 100,
   "id": "224d5eba-b301-476b-a265-4bfff35b73f8",
   "metadata": {},
   "outputs": [
    {
     "data": {
      "text/plain": [
       "False"
      ]
     },
     "execution_count": 100,
     "metadata": {},
     "output_type": "execute_result"
    }
   ],
   "source": [
    "x=5\n",
    "type(x) is float"
   ]
  },
  {
   "cell_type": "code",
   "execution_count": 110,
   "id": "4c1bad40-a440-4746-b2e9-6b1cb8583427",
   "metadata": {},
   "outputs": [
    {
     "data": {
      "text/plain": [
       "True"
      ]
     },
     "execution_count": 110,
     "metadata": {},
     "output_type": "execute_result"
    }
   ],
   "source": [
    "x=5\n",
    "type(x) is not dict"
   ]
  },
  {
   "cell_type": "markdown",
   "id": "1fd68d4e-a355-41dd-8aa2-fb50b9578a59",
   "metadata": {},
   "source": [
    "# membership operators"
   ]
  },
  {
   "cell_type": "code",
   "execution_count": 126,
   "id": "903a770d-b053-4942-ad12-d17b31eb65be",
   "metadata": {},
   "outputs": [
    {
     "data": {
      "text/plain": [
       "'\\nMembership Operators\\nin: Checks if a value is present in a sequence (list, tuple, string, etc.)\\nnot in: Checks if a value is not present in a sequence\\n'"
      ]
     },
     "execution_count": 126,
     "metadata": {},
     "output_type": "execute_result"
    }
   ],
   "source": [
    "\"\"\"\n",
    "Membership Operators\n",
    "in: Checks if a value is present in a sequence (list, tuple, string, etc.)\n",
    "not in: Checks if a value is not present in a sequence\n",
    "\"\"\""
   ]
  },
  {
   "cell_type": "code",
   "execution_count": 102,
   "id": "5adabd15-0fc5-4868-a353-2e24ebe03c6d",
   "metadata": {},
   "outputs": [
    {
     "ename": "NameError",
     "evalue": "name 'elo' is not defined",
     "output_type": "error",
     "traceback": [
      "\u001b[0;31m---------------------------------------------------------------------------\u001b[0m",
      "\u001b[0;31mNameError\u001b[0m                                 Traceback (most recent call last)",
      "Cell \u001b[0;32mIn[102], line 1\u001b[0m\n\u001b[0;32m----> 1\u001b[0m elo \u001b[38;5;129;01min\u001b[39;00m hello\n",
      "\u001b[0;31mNameError\u001b[0m: name 'elo' is not defined"
     ]
    }
   ],
   "source": [
    "elo in hello"
   ]
  },
  {
   "cell_type": "code",
   "execution_count": 104,
   "id": "292bdff8-8277-4f05-95eb-75719dc049a2",
   "metadata": {},
   "outputs": [
    {
     "data": {
      "text/plain": [
       "False"
      ]
     },
     "execution_count": 104,
     "metadata": {},
     "output_type": "execute_result"
    }
   ],
   "source": [
    "\"elo\" in \"hello\" #should be in same pattern"
   ]
  },
  {
   "cell_type": "code",
   "execution_count": 106,
   "id": "9a729cc8-f9d4-4b2b-9c60-0e8ddd023939",
   "metadata": {},
   "outputs": [
    {
     "data": {
      "text/plain": [
       "True"
      ]
     },
     "execution_count": 106,
     "metadata": {},
     "output_type": "execute_result"
    }
   ],
   "source": [
    "\"h\" in \"hello\""
   ]
  },
  {
   "cell_type": "code",
   "execution_count": 112,
   "id": "b7a20d4c-1825-43d5-bfb3-1d6e5636e4e0",
   "metadata": {},
   "outputs": [
    {
     "data": {
      "text/plain": [
       "True"
      ]
     },
     "execution_count": 112,
     "metadata": {},
     "output_type": "execute_result"
    }
   ],
   "source": [
    "\"ello\" in \"hello\""
   ]
  },
  {
   "cell_type": "code",
   "execution_count": 130,
   "id": "b92e1e06-f1a1-4bdc-acf2-3596b44ecbf6",
   "metadata": {},
   "outputs": [
    {
     "data": {
      "text/plain": [
       "False"
      ]
     },
     "execution_count": 130,
     "metadata": {},
     "output_type": "execute_result"
    }
   ],
   "source": [
    "\"ello\" not in \"hello\""
   ]
  },
  {
   "cell_type": "markdown",
   "id": "674e1b8b-1505-4cee-bc02-217b23096a44",
   "metadata": {},
   "source": [
    "# Bitwise operators"
   ]
  },
  {
   "cell_type": "code",
   "execution_count": 134,
   "id": "9d1736be-fe27-43e9-b6cf-5a3a8dfaf868",
   "metadata": {},
   "outputs": [
    {
     "data": {
      "text/plain": [
       "'\\n&: Bitwise AND\\n|: Bitwise OR\\n^: Bitwise XOR\\n~: Bitwise NOT\\n<<: Bitwise left shift\\n>>: Bitwise right shift\\n'"
      ]
     },
     "execution_count": 134,
     "metadata": {},
     "output_type": "execute_result"
    }
   ],
   "source": [
    "\"\"\"\n",
    "&: Bitwise AND\n",
    "|: Bitwise OR\n",
    "^: Bitwise XOR\n",
    "~: Bitwise NOT\n",
    "<<: Bitwise left shift\n",
    ">>: Bitwise right shift\n",
    "\"\"\""
   ]
  },
  {
   "cell_type": "code",
   "execution_count": 132,
   "id": "ec052a52-a118-47ed-94a7-4d974c1a6fdb",
   "metadata": {},
   "outputs": [
    {
     "data": {
      "text/plain": [
       "2"
      ]
     },
     "execution_count": 132,
     "metadata": {},
     "output_type": "execute_result"
    }
   ],
   "source": [
    "2&3 #BITWISE AND\n",
    "#2=10 in binary\n",
    "#3=11 in binary\n",
    "#2&3=10&11=10 which implies 2"
   ]
  },
  {
   "cell_type": "code",
   "execution_count": 136,
   "id": "6d79aadc-c856-4399-afef-3896bcc47cf9",
   "metadata": {},
   "outputs": [
    {
     "data": {
      "text/plain": [
       "3"
      ]
     },
     "execution_count": 136,
     "metadata": {},
     "output_type": "execute_result"
    }
   ],
   "source": [
    "2|3 #bitwise OR"
   ]
  },
  {
   "cell_type": "code",
   "execution_count": 138,
   "id": "d2caa513-037c-4225-9ca7-39296b694648",
   "metadata": {},
   "outputs": [
    {
     "data": {
      "text/plain": [
       "1"
      ]
     },
     "execution_count": 138,
     "metadata": {},
     "output_type": "execute_result"
    }
   ],
   "source": [
    "2^3 #Bitwise XOR"
   ]
  },
  {
   "cell_type": "code",
   "execution_count": 166,
   "id": "e0688a3c-74af-40c1-a823-eb76ee71c1b3",
   "metadata": {},
   "outputs": [
    {
     "data": {
      "text/plain": [
       "-3"
      ]
     },
     "execution_count": 166,
     "metadata": {},
     "output_type": "execute_result"
    }
   ],
   "source": [
    "~2\n",
    "#The bitwise NOT operator in Python is represented by the ~ symbol.\n",
    "#It performs a bitwise negation (inversion) of the bits of its operand. \n",
    "#For integer n, ~n equals -(n + 1)."
   ]
  },
  {
   "cell_type": "code",
   "execution_count": 168,
   "id": "cf60c94b-3a35-48a3-85e1-0229c4369b38",
   "metadata": {},
   "outputs": [
    {
     "data": {
      "text/plain": [
       "-10"
      ]
     },
     "execution_count": 168,
     "metadata": {},
     "output_type": "execute_result"
    }
   ],
   "source": [
    "~9 "
   ]
  },
  {
   "cell_type": "code",
   "execution_count": 170,
   "id": "fdde0516-cf2d-4679-b6ed-244a744fa653",
   "metadata": {},
   "outputs": [
    {
     "data": {
      "text/plain": [
       "6"
      ]
     },
     "execution_count": 170,
     "metadata": {},
     "output_type": "execute_result"
    }
   ],
   "source": [
    "~-7 ##For integer n, ~n equals -(n + 1)."
   ]
  },
  {
   "cell_type": "code",
   "execution_count": 188,
   "id": "7edbd5cf-5977-4c94-b8f6-574eed2ce511",
   "metadata": {},
   "outputs": [
    {
     "data": {
      "text/plain": [
       "16"
      ]
     },
     "execution_count": 188,
     "metadata": {},
     "output_type": "execute_result"
    }
   ],
   "source": [
    "4<<2 \n",
    "#4 in binary is 0000 0100 (in an 8-bit representation).\n",
    "#Original: 0000 0100\n",
    "#Shifted:  0001 0000\n",
    "#0001 0000 in binary is 16 in decimal."
   ]
  },
  {
   "cell_type": "code",
   "execution_count": 210,
   "id": "d8756a1b-fcaf-4c43-98f2-8a57707a3a4b",
   "metadata": {},
   "outputs": [
    {
     "data": {
      "text/plain": [
       "8"
      ]
     },
     "execution_count": 210,
     "metadata": {},
     "output_type": "execute_result"
    }
   ],
   "source": [
    "4<<1"
   ]
  },
  {
   "cell_type": "code",
   "execution_count": 212,
   "id": "d721bce8-9fe8-40bf-8c74-fd7436ec61c3",
   "metadata": {},
   "outputs": [
    {
     "data": {
      "text/plain": [
       "1"
      ]
     },
     "execution_count": 212,
     "metadata": {},
     "output_type": "execute_result"
    }
   ],
   "source": [
    "4>>2 \n",
    "#Bitwise right shift"
   ]
  },
  {
   "cell_type": "code",
   "execution_count": 119,
   "id": "4ba1595d-591d-47d9-a8bf-e511ca9a7d9b",
   "metadata": {},
   "outputs": [
    {
     "data": {
      "text/plain": [
       "3"
      ]
     },
     "execution_count": 119,
     "metadata": {},
     "output_type": "execute_result"
    }
   ],
   "source": [
    "2 and 3 #doesn't give desired operation, gives random"
   ]
  },
  {
   "cell_type": "code",
   "execution_count": 125,
   "id": "eee434a2-336f-434b-b01c-d791d92770d7",
   "metadata": {},
   "outputs": [
    {
     "data": {
      "text/plain": [
       "6"
      ]
     },
     "execution_count": 125,
     "metadata": {},
     "output_type": "execute_result"
    }
   ],
   "source": [
    "5 and 6"
   ]
  },
  {
   "cell_type": "code",
   "execution_count": 127,
   "id": "1008b9e5-ff78-4057-b04e-0eabd7f289a7",
   "metadata": {},
   "outputs": [
    {
     "data": {
      "text/plain": [
       "5"
      ]
     },
     "execution_count": 127,
     "metadata": {},
     "output_type": "execute_result"
    }
   ],
   "source": [
    "6 and 5"
   ]
  },
  {
   "cell_type": "markdown",
   "id": "d20aa96d-ca3a-4631-8b3f-70270d4d58ad",
   "metadata": {},
   "source": [
    "# Python List(Very Very Important)\n",
    "python is python mainly because of python list"
   ]
  },
  {
   "cell_type": "code",
   "execution_count": 134,
   "id": "8a54d9b0-2351-45d8-8af3-10cf277a71ed",
   "metadata": {},
   "outputs": [
    {
     "name": "stdout",
     "output_type": "stream",
     "text": [
      "['sunday', 'Monday', 'tuesday', 'wednesday', 'thursday', 'friday', 'saturday']\n"
     ]
    }
   ],
   "source": [
    "days_of_week =[\"sunday\", \"Monday\",\"tuesday\",\"wednesday\",\"thursday\",\"friday\",\"saturday\"]\n",
    "print(days_of_week)"
   ]
  },
  {
   "cell_type": "code",
   "execution_count": 136,
   "id": "f23c5a7e-7634-4880-937c-57edf0e81448",
   "metadata": {},
   "outputs": [
    {
     "data": {
      "text/plain": [
       "7"
      ]
     },
     "execution_count": 136,
     "metadata": {},
     "output_type": "execute_result"
    }
   ],
   "source": [
    "len(days_of_week) #len function gives length of values of the variable"
   ]
  },
  {
   "cell_type": "code",
   "execution_count": 142,
   "id": "6d671f20-ca70-4401-a6a6-305f90d74741",
   "metadata": {},
   "outputs": [
    {
     "name": "stdout",
     "output_type": "stream",
     "text": [
      "sunday\n",
      "friday\n",
      "wednesday\n"
     ]
    }
   ],
   "source": [
    "print(days_of_week[0]) #accessing list items\n",
    "print(days_of_week[5])\n",
    "print(days_of_week[3])\n"
   ]
  },
  {
   "cell_type": "code",
   "execution_count": 146,
   "id": "be786683-dafb-4a98-adf0-b5a998b5a306",
   "metadata": {},
   "outputs": [
    {
     "name": "stdout",
     "output_type": "stream",
     "text": [
      "saturday\n",
      "Monday\n"
     ]
    }
   ],
   "source": [
    "print(days_of_week[-1])\n",
    "print(days_of_week[-6])#negative indexing"
   ]
  },
  {
   "cell_type": "code",
   "execution_count": 218,
   "id": "6ffc13dd-2d4b-47e7-a120-5d43d46eb968",
   "metadata": {},
   "outputs": [
    {
     "name": "stdout",
     "output_type": "stream",
     "text": [
      "1\n",
      "1\n",
      "2\n",
      "3\n",
      "4\n",
      "5\n",
      "6\n"
     ]
    }
   ],
   "source": [
    "# Creating a list\n",
    "my_list = [1, 2, 3, 4, 5]\n",
    "\n",
    "# Accessing elements\n",
    "print(my_list[0])  # Output: 1\n",
    "\n",
    "# Adding elements\n",
    "my_list.append(6)\n",
    "\n",
    "# Iterating over a list\n",
    "for item in my_list:\n",
    "    print(item)"
   ]
  },
  {
   "cell_type": "code",
   "execution_count": 247,
   "id": "35e995b3-c64a-4886-b81d-8209f64a8ebd",
   "metadata": {},
   "outputs": [
    {
     "name": "stdout",
     "output_type": "stream",
     "text": [
      "[1, 2, 3, 4, 5]\n"
     ]
    }
   ],
   "source": [
    "list= [1, 2, 3, 4, 5]\n",
    "print(list)"
   ]
  },
  {
   "cell_type": "code",
   "execution_count": 253,
   "id": "e18a724c-4393-4d54-a9d0-8d82f93a24f3",
   "metadata": {},
   "outputs": [
    {
     "name": "stdout",
     "output_type": "stream",
     "text": [
      "[1, 2, 3, 4, 5, 'hello']\n"
     ]
    }
   ],
   "source": [
    "list.append(\"hello\") #The append() method in Python is used to add an item to the end of a list.\n",
    "print(list)"
   ]
  },
  {
   "cell_type": "code",
   "execution_count": null,
   "id": "e70d6d21-3bc9-485a-87ce-09bf1b8d080e",
   "metadata": {},
   "outputs": [],
   "source": []
  }
 ],
 "metadata": {
  "kernelspec": {
   "display_name": "Python 3 (ipykernel)",
   "language": "python",
   "name": "python3"
  },
  "language_info": {
   "codemirror_mode": {
    "name": "ipython",
    "version": 3
   },
   "file_extension": ".py",
   "mimetype": "text/x-python",
   "name": "python",
   "nbconvert_exporter": "python",
   "pygments_lexer": "ipython3",
   "version": "3.12.4"
  }
 },
 "nbformat": 4,
 "nbformat_minor": 5
}
