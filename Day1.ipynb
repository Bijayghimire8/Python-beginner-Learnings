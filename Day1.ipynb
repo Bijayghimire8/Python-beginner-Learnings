{
 "cells": [
  {
   "cell_type": "code",
   "execution_count": 9,
   "id": "8892cfd0-74f0-45c4-b7a3-d4bdaf613b9d",
   "metadata": {},
   "outputs": [
    {
     "name": "stdout",
     "output_type": "stream",
     "text": [
      "Hello world!\n"
     ]
    }
   ],
   "source": [
    "#To print\n",
    "\n",
    "print(\"Hello world!\")\n"
   ]
  },
  {
   "cell_type": "code",
   "execution_count": 62,
   "id": "669329f8-ff2e-4a73-bebe-3b60200bb8db",
   "metadata": {},
   "outputs": [],
   "source": [
    "#for comment use # like below\n",
    "\n",
    "# this is a single line comment.Always comment your code"
   ]
  },
  {
   "cell_type": "code",
   "execution_count": 5,
   "id": "cdfe6d1a-e981-4492-806c-f22536a3849f",
   "metadata": {},
   "outputs": [
    {
     "data": {
      "text/plain": [
       "'\\nThis is a multi-line comment.\\nYou can use triple quotes to span\\nthe comment across multiple lines.\\n'"
      ]
     },
     "execution_count": 5,
     "metadata": {},
     "output_type": "execute_result"
    }
   ],
   "source": [
    "For comment in multiple lines use \"\"\" \n",
    "\n",
    "\"\"\"\n",
    "This is a multi-line comment.\n",
    "You can use triple quotes to span\n",
    "the comment across multiple lines.\n",
    "\"\"\"\n",
    "\n",
    "# Another way to do a multi-line comment\n",
    "# is by using a series of single-line comments.\n",
    "# Each line starts with a `#`"
   ]
  },
  {
   "cell_type": "code",
   "execution_count": 31,
   "id": "d8e03088-b6e2-4d62-8842-efb15c211b7f",
   "metadata": {},
   "outputs": [
    {
     "name": "stdout",
     "output_type": "stream",
     "text": [
      "x= 2\n",
      "X= 5\n"
     ]
    }
   ],
   "source": [
    "#print values assigned in variable\n",
    "\n",
    "x=2\n",
    "X=5\n",
    "print('x=',x)\n",
    "print('X=',X)"
   ]
  },
  {
   "cell_type": "code",
   "execution_count": 39,
   "id": "2b2143df-58e7-4b58-a3a8-b4f9268eb1da",
   "metadata": {},
   "outputs": [
    {
     "name": "stdout",
     "output_type": "stream",
     "text": [
      "x= 2\n",
      "X= 3\n"
     ]
    }
   ],
   "source": [
    "x=2\n",
    "X=5\n",
    "X=3 #prints the value of X as 3 not 5, because program flows from down to upward\n",
    "print('x=',x)\n",
    "print('X=',X)"
   ]
  },
  {
   "cell_type": "code",
   "execution_count": 43,
   "id": "2c227380-f24e-4e89-bbfa-eac4f5685ca2",
   "metadata": {},
   "outputs": [
    {
     "name": "stdout",
     "output_type": "stream",
     "text": [
      "language: python\n",
      "name: John\n"
     ]
    }
   ],
   "source": [
    "#print string assigned invariable\n",
    "\n",
    "\n",
    "language='python'\n",
    "name=\"John\"\n",
    "print('language:',language)\n",
    "print(\"name:\",name)"
   ]
  },
  {
   "cell_type": "code",
   "execution_count": 45,
   "id": "eaac0d44-c11e-478c-a626-5a6819f3917c",
   "metadata": {},
   "outputs": [
    {
     "ename": "SyntaxError",
     "evalue": "invalid decimal literal (1337952949.py, line 1)",
     "output_type": "error",
     "traceback": [
      "\u001b[0;36m  Cell \u001b[0;32mIn[45], line 1\u001b[0;36m\u001b[0m\n\u001b[0;31m    7name=\"Harry\"\u001b[0m\n\u001b[0m    ^\u001b[0m\n\u001b[0;31mSyntaxError\u001b[0m\u001b[0;31m:\u001b[0m invalid decimal literal\n"
     ]
    }
   ],
   "source": [
    "#Rules to create variables:\n",
    "#.can use digit,letter and underscore in any sequence except digit can't be a first letter\n",
    "\n",
    "\n",
    "7name=\"Harry\" #we cannot create variable as  digit first "
   ]
  },
  {
   "cell_type": "code",
   "execution_count": 47,
   "id": "ee229d31-6dbe-4247-a4e7-64e2433a0c3a",
   "metadata": {},
   "outputs": [],
   "source": [
    "_age=25\n",
    "name7=\"sarah\" #this is correct"
   ]
  },
  {
   "cell_type": "code",
   "execution_count": 38,
   "id": "5e2d68d4-8e5c-4cc4-94b3-b8d82e8e0f27",
   "metadata": {},
   "outputs": [
    {
     "name": "stdout",
     "output_type": "stream",
     "text": [
      "range(0, 5)\n"
     ]
    }
   ],
   "source": [
    "x=range(5)\n",
    "print(x)"
   ]
  },
  {
   "cell_type": "code",
   "execution_count": 48,
   "id": "392c1494-d928-4dd8-ba5a-1e0f410af5c9",
   "metadata": {},
   "outputs": [
    {
     "name": "stdout",
     "output_type": "stream",
     "text": [
      "{'My name is': 'bijay', 'and my age is': 32}\n"
     ]
    }
   ],
   "source": [
    "#there are several data types in python like int,float,string,dict,tuple,boolen,list etc\n",
    "#Example of dict type below which comes in pair.\n",
    "\n",
    "\n",
    "My_Info={\"My name is\":\"bijay\",\"and my age is\":32} #Dict type data type\n",
    "print(My_Info)"
   ]
  },
  {
   "cell_type": "code",
   "execution_count": 60,
   "id": "5f216492-52fa-4d57-963f-641b7049005c",
   "metadata": {},
   "outputs": [
    {
     "name": "stdout",
     "output_type": "stream",
     "text": [
      "Type of name variable <class 'str'>\n",
      "Type of age variable <class 'int'>\n",
      "Type of height variable <class 'float'>\n",
      "Type of fruits variable <class 'list'>\n",
      "Type of colors variable <class 'tuple'>\n",
      "Type of My info variable <class 'dict'>\n",
      "Type of is ok variable <class 'bool'>\n"
     ]
    }
   ],
   "source": [
    "name=\"bijay\" #string type\n",
    "age=32 #integer type\n",
    "height=5.11 #float\n",
    "Fruits=[\"Apple\",\"orange\",\"banana\"] #list\n",
    "colors=(\"red\",\"yellow\",\"blue\") #tuple\n",
    "My_Info={\"name\":\"bijay\",\"age\":32} #dict\n",
    "is_ok=True #boolen\n",
    "\n",
    "#now we can find the types of variable using \"type\" function\n",
    "print(\"Type of name variable\",type(name))\n",
    "print(\"Type of age variable\",type(age))\n",
    "print(\"Type of height variable\",type(height))\n",
    "print(\"Type of fruits variable\",type(Fruits))\n",
    "print(\"Type of colors variable\",type(colors))\n",
    "print(\"Type of My info variable\",type(My_Info))\n",
    "print(\"Type of is ok variable\",type(is_ok))\n"
   ]
  },
  {
   "cell_type": "code",
   "execution_count": 72,
   "id": "e998a1fa-40df-4078-ad3c-bc2d627e7beb",
   "metadata": {},
   "outputs": [
    {
     "name": "stdout",
     "output_type": "stream",
     "text": [
      "Type of int_var_auto: <class 'int'>\n",
      "Type of str_var_auto: <class 'str'>\n",
      "Type of float_var_auto: <class 'float'>\n"
     ]
    }
   ],
   "source": [
    "#Topic:type casting.....can create variable or convert into another variable.\n",
    "\n",
    "int_var=int(2.2) #int_var will contain the value of only 2, discarding decimal numbers\n",
    "str_var=str(45) #it will contain 45 as a string not as a number\n",
    "float_var=float(\"3.14\") #it will contain the value of 3.14 as a floating value\n",
    "\n",
    "#Example:\n",
    "int_var_auto= int(4.5)\n",
    "str_var_auto=\"hello\"\n",
    "float_var_auto=3.14\n",
    "\n",
    "print(\"Type of int_var_auto:\",type(int_var_auto))\n",
    "print(\"Type of str_var_auto:\",type(str_var_auto))\n",
    "print(\"Type of float_var_auto:\",type(float_var_auto))\n"
   ]
  },
  {
   "cell_type": "code",
   "execution_count": null,
   "id": "596e2d51-e3e9-4d5e-b298-e724b9826dcb",
   "metadata": {},
   "outputs": [],
   "source": []
  }
 ],
 "metadata": {
  "kernelspec": {
   "display_name": "Python 3 (ipykernel)",
   "language": "python",
   "name": "python3"
  },
  "language_info": {
   "codemirror_mode": {
    "name": "ipython",
    "version": 3
   },
   "file_extension": ".py",
   "mimetype": "text/x-python",
   "name": "python",
   "nbconvert_exporter": "python",
   "pygments_lexer": "ipython3",
   "version": "3.12.4"
  }
 },
 "nbformat": 4,
 "nbformat_minor": 5
}
